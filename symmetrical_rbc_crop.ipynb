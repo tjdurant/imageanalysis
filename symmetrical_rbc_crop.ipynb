{
 "cells": [
  {
   "cell_type": "code",
   "execution_count": 13,
   "metadata": {
    "collapsed": false
   },
   "outputs": [],
   "source": [
    "import os\n",
    "import sys\n",
    "import time\n",
    "import PIL\n",
    "import csv\n",
    "\n",
    "\n",
    "import pandas as pd\n",
    "import numpy as np\n",
    "\n",
    "from time import strftime, gmtime\n",
    "from os import listdir\n",
    "from os.path import isfile, join \n",
    "from PIL import Image"
   ]
  },
  {
   "cell_type": "code",
   "execution_count": 2,
   "metadata": {
    "collapsed": true
   },
   "outputs": [],
   "source": [
    "# http://stackoverflow.com/questions/15514593/importerror-no-module-named-when-trying-to-run-python-script\n",
    "\n",
    "import sys\n",
    "sys.path.append('C:/Anaconda/Lib/site-packages')\n",
    "\n",
    "import cv2"
   ]
  },
  {
   "cell_type": "code",
   "execution_count": 4,
   "metadata": {
    "collapsed": true
   },
   "outputs": [],
   "source": [
    "DATA_DIR = 'C:/Users/thoma/Documents/00GitHub/rbc_cnn/'\n",
    "IMG_DIR = 'C:/Users/thoma/Documents/00GitHub/Cellavision_Trial_images/'\n",
    "\n",
    "rbcPath = IMG_DIR + 'rbcs/'"
   ]
  },
  {
   "cell_type": "code",
   "execution_count": 5,
   "metadata": {
    "collapsed": true
   },
   "outputs": [],
   "source": [
    "rbcImgFiles = [f for f in listdir(rbcPath) if isfile(join(rbcPath,f))]"
   ]
  },
  {
   "cell_type": "code",
   "execution_count": 11,
   "metadata": {
    "collapsed": false
   },
   "outputs": [],
   "source": [
    "def return_image(n):\n",
    "    return Image.open(IMG_DIR + 'rbcs/{}'.format(n))"
   ]
  },
  {
   "cell_type": "code",
   "execution_count": 14,
   "metadata": {
    "collapsed": true
   },
   "outputs": [],
   "source": [
    "def cv_image(n):\n",
    "    return cv2.imread(IMG_DIR + 'rbcs/{}'.format(n))"
   ]
  },
  {
   "cell_type": "code",
   "execution_count": 15,
   "metadata": {
    "collapsed": true
   },
   "outputs": [
    {
     "data": {
      "text/plain": [
       "array([[[160, 166, 201],\n",
       "        [163, 169, 204],\n",
       "        [170, 175, 208],\n",
       "        ..., \n",
       "        [167, 146, 195],\n",
       "        [169, 140, 189],\n",
       "        [174, 141, 186]],\n",
       "\n",
       "       [[160, 167, 200],\n",
       "        [166, 171, 204],\n",
       "        [171, 176, 209],\n",
       "        ..., \n",
       "        [168, 147, 196],\n",
       "        [171, 142, 191],\n",
       "        [175, 145, 188]],\n",
       "\n",
       "       [[166, 171, 204],\n",
       "        [170, 175, 208],\n",
       "        [175, 180, 211],\n",
       "        ..., \n",
       "        [167, 145, 194],\n",
       "        [171, 142, 191],\n",
       "        [175, 145, 188]],\n",
       "\n",
       "       ..., \n",
       "       [[223, 242, 255],\n",
       "        [226, 244, 251],\n",
       "        [227, 243, 242],\n",
       "        ..., \n",
       "        [215, 231, 248],\n",
       "        [216, 216, 240],\n",
       "        [192, 176, 207]],\n",
       "\n",
       "       [[221, 237, 253],\n",
       "        [221, 239, 246],\n",
       "        [220, 236, 235],\n",
       "        ..., \n",
       "        [216, 234, 251],\n",
       "        [218, 222, 246],\n",
       "        [196, 184, 214]],\n",
       "\n",
       "       [[219, 235, 251],\n",
       "        [218, 236, 243],\n",
       "        [214, 229, 231],\n",
       "        ..., \n",
       "        [216, 239, 255],\n",
       "        [219, 230, 252],\n",
       "        [197, 193, 222]]], dtype=uint8)"
      ]
     },
     "execution_count": 15,
     "metadata": {},
     "output_type": "execute_result"
    }
   ],
   "source": [
    "cv_image(rbcImgFiles[0])"
   ]
  },
  {
   "cell_type": "code",
   "execution_count": 49,
   "metadata": {
    "collapsed": false
   },
   "outputs": [
    {
     "data": {
      "text/plain": [
       "True"
      ]
     },
     "execution_count": 49,
     "metadata": {},
     "output_type": "execute_result"
    }
   ],
   "source": [
    "# Workflow should be: color->gray, blur, threshold(binarizes it), find contours, create mask for each contour, /\n",
    "# more simply; find contours --> draw contours --> mask image\n",
    "\n",
    "# cv image object\n",
    "im = cv_image(rbcImgFiles[0])\n",
    "\n",
    "# convert to gray scale\n",
    "imgray = cv2.cvtColor(im,cv2.COLOR_BGR2GRAY)\n",
    "\n",
    "# preprocessing technique for better tresholding\n",
    "imgray = cv2.medianBlur(imgray, 5)\n",
    "\n",
    "# have to 'thresh' for findCountours()..i.e. findContours() needs binary image. Both produce new images. \n",
    "# (<image>, <threshold value>, <max threshold>, ?)\n",
    "ret,thresh = cv2.threshold(imgray,205,255,0)\n",
    "\n",
    "# find the contours\n",
    "image, contours, hierarchy = cv2.findContours(thresh,cv2.RETR_TREE,cv2.CHAIN_APPROX_NONE)\n",
    "\n",
    "# create mask image where all elements are zero (black image) with same size as source (1st param)\n",
    "# np.zeros returns array of given shape filled with zeros\n",
    "mask = np.zeros(imgray.shape,np.uint8) \n",
    "\n",
    "\n",
    "\n",
    "coordinates = []\n",
    "rectParameters = []\n",
    "idx = []\n",
    "x = 0 \n",
    "i = 0\n",
    "# filter the contours based on area\n",
    "for h, cnt in enumerate(contours):\n",
    "#     length = cv2.arcLength(cnt, True)\n",
    "#     if length < 120:\n",
    "#         continue\n",
    "#     if length > 210:\n",
    "#         continue\n",
    "#     if len(cnt) < 5:\n",
    "#         continue\n",
    "    area = cv2.contourArea(cnt)\n",
    "    if area < 300:\n",
    "        continue\n",
    "    if area > 3000:\n",
    "        continue\n",
    "\n",
    "    \n",
    "    \n",
    "#     hull = cv2.convexHull(cnt,returnPoints = False)\n",
    "#     defects = cv2.convexityDefects(cnt,hull)\n",
    "#     if defects is None:\n",
    "#         continue\n",
    "        \n",
    "    x,y,w,h = cv2.boundingRect(cnt) \n",
    "#     xywh = w,y,w,h\n",
    "    \n",
    "    cw = w/2\n",
    "    ch = h/2\n",
    "    \n",
    "    new_x = (x+cw)-50\n",
    "    new_y = (y+ch)-50\n",
    "    \n",
    "#     coordinates.append(xywh)\n",
    "\n",
    "    #crop and save each object\n",
    "#     crop_img = im[y: y + h, x: x + w]\n",
    "#     cv2.imwrite('%s.png'%idx, crop_img)\n",
    "#     idx += 1\n",
    "    # build full list of rect params\n",
    "#     param = cv2.boundingRect(cnt) \n",
    "#     rectParameters.append(param)\n",
    "    \n",
    "    if i == 1200:\n",
    "        # draw rectangles on image\n",
    "        cv2.rectangle(im,(new_x,new_y),(new_x+100,new_y+100),(0,255,0),2)\n",
    "        cv2.rectangle(im,(x,y),(x+w,y+h),(0,255,0),2)\n",
    "    # draw contours\n",
    "    cv2.drawContours(mask, [cnt],0,255,-1)\n",
    "    i +=1\n",
    "    \n",
    "imgName = 'test.png'\n",
    "cv2.imwrite(imgName, im)\n",
    "\n",
    "# cv2.imshow(\"Image\", im)\n",
    "# cv2.waitKey(0) "
   ]
  }
 ],
 "metadata": {
  "kernelspec": {
   "display_name": "Python 2",
   "language": "python",
   "name": "python2"
  },
  "language_info": {
   "codemirror_mode": {
    "name": "ipython",
    "version": 2
   },
   "file_extension": ".py",
   "mimetype": "text/x-python",
   "name": "python",
   "nbconvert_exporter": "python",
   "pygments_lexer": "ipython2",
   "version": "2.7.10"
  }
 },
 "nbformat": 4,
 "nbformat_minor": 0
}
