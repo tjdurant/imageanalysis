{
 "cells": [
  {
   "cell_type": "code",
   "execution_count": 1,
   "metadata": {
    "collapsed": false
   },
   "outputs": [],
   "source": [
    "import sys\n",
    "import os\n",
    "import sys\n",
    "import time\n",
    "import PIL\n",
    "\n",
    "import numpy as np\n",
    "\n",
    "from time import strftime, gmtime\n",
    "from os import listdir\n",
    "from os.path import isfile, join \n",
    "from PIL import Image\n",
    "\n",
    "import sys\n",
    "sys.path.append('C:/Anaconda/Lib/site-packages')\n",
    "\n",
    "import cv2\n",
    "\n"
   ]
  },
  {
   "cell_type": "code",
   "execution_count": 2,
   "metadata": {
    "collapsed": true
   },
   "outputs": [],
   "source": [
    "# set current working directory path\n",
    "pgmPath = 'C:/Users/thoma/Documents/00GitHub/'\n",
    "\n",
    "# rbc image path\n",
    "rbcPath = pgmPath + 'Cellavision_Trial_images/rbcs/'"
   ]
  },
  {
   "cell_type": "code",
   "execution_count": 3,
   "metadata": {
    "collapsed": false
   },
   "outputs": [],
   "source": [
    "rbcImgFiles = [f for f in listdir(rbcPath) if isfile(join(rbcPath,f))]"
   ]
  },
  {
   "cell_type": "code",
   "execution_count": 4,
   "metadata": {
    "collapsed": false
   },
   "outputs": [
    {
     "data": {
      "text/plain": [
       "-1"
      ]
     },
     "execution_count": 4,
     "metadata": {},
     "output_type": "execute_result"
    }
   ],
   "source": [
    "# Opens just one image \n",
    "test = str(rbcImgFiles[6])\n",
    "image = rbcPath + test\n",
    "\n",
    "im = cv2.imread(image)\n",
    "cv2.imshow(\"Image\", im)\n",
    "cv2.waitKey(0)"
   ]
  },
  {
   "cell_type": "code",
   "execution_count": 5,
   "metadata": {
    "collapsed": false
   },
   "outputs": [
    {
     "data": {
      "text/plain": [
       "0       (50, 2830, 50, 37)\n",
       "1       (36, 2830, 36, 40)\n",
       "2       (34, 2829, 34, 40)\n",
       "3       (36, 2827, 36, 42)\n",
       "4       (41, 2826, 41, 36)\n",
       "5       (34, 2826, 34, 41)\n",
       "6       (66, 2826, 66, 41)\n",
       "7       (53, 2826, 53, 42)\n",
       "8       (38, 2825, 38, 37)\n",
       "9       (35, 2822, 35, 40)\n",
       "10      (36, 2821, 36, 35)\n",
       "11      (30, 2819, 30, 47)\n",
       "12      (43, 2818, 43, 44)\n",
       "13      (38, 2817, 38, 42)\n",
       "14      (38, 2816, 38, 42)\n",
       "15      (37, 2815, 37, 35)\n",
       "16      (40, 2814, 40, 38)\n",
       "17      (37, 2814, 37, 35)\n",
       "18      (36, 2813, 36, 36)\n",
       "19      (36, 2810, 36, 35)\n",
       "20      (33, 2808, 33, 41)\n",
       "21      (39, 2807, 39, 26)\n",
       "22      (30, 2806, 30, 39)\n",
       "23      (33, 2804, 33, 40)\n",
       "24      (38, 2803, 38, 39)\n",
       "25      (38, 2801, 38, 44)\n",
       "26      (41, 2801, 41, 44)\n",
       "27      (38, 2800, 38, 36)\n",
       "28      (61, 2800, 61, 39)\n",
       "29      (40, 2798, 40, 32)\n",
       "               ...        \n",
       "2486      (37, 37, 37, 42)\n",
       "2487      (44, 36, 44, 37)\n",
       "2488      (36, 34, 36, 42)\n",
       "2489      (40, 29, 40, 36)\n",
       "2490      (42, 28, 42, 56)\n",
       "2491      (38, 28, 38, 38)\n",
       "2492      (41, 28, 41, 40)\n",
       "2493      (37, 26, 37, 43)\n",
       "2494      (39, 25, 39, 38)\n",
       "2495      (43, 25, 43, 46)\n",
       "2496      (35, 23, 35, 47)\n",
       "2497      (37, 23, 37, 33)\n",
       "2498      (38, 23, 38, 38)\n",
       "2499      (43, 18, 43, 34)\n",
       "2500      (39, 18, 39, 41)\n",
       "2501      (39, 17, 39, 42)\n",
       "2502      (35, 14, 35, 32)\n",
       "2503      (37, 13, 37, 40)\n",
       "2504      (48, 12, 48, 32)\n",
       "2505       (42, 9, 42, 37)\n",
       "2506       (53, 9, 53, 55)\n",
       "2507       (37, 9, 37, 35)\n",
       "2508       (40, 9, 40, 39)\n",
       "2509       (34, 6, 34, 33)\n",
       "2510       (34, 6, 34, 43)\n",
       "2511       (50, 5, 50, 30)\n",
       "2512       (43, 2, 43, 32)\n",
       "2513       (46, 2, 46, 49)\n",
       "2514       (39, 1, 39, 36)\n",
       "2515       (34, 1, 34, 36)\n",
       "dtype: object"
      ]
     },
     "execution_count": 5,
     "metadata": {},
     "output_type": "execute_result"
    }
   ],
   "source": [
    "import cell_capture as cc\n",
    "cc.rbc_capture(image)"
   ]
  }
 ],
 "metadata": {
  "kernelspec": {
   "display_name": "Python 2",
   "language": "python",
   "name": "python2"
  },
  "language_info": {
   "codemirror_mode": {
    "name": "ipython",
    "version": 2
   },
   "file_extension": ".py",
   "mimetype": "text/x-python",
   "name": "python",
   "nbconvert_exporter": "python",
   "pygments_lexer": "ipython2",
   "version": "2.7.10"
  }
 },
 "nbformat": 4,
 "nbformat_minor": 0
}
