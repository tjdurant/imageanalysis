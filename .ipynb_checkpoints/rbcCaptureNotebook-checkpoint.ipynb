{
 "cells": [
  {
   "cell_type": "code",
   "execution_count": 1,
   "metadata": {
    "collapsed": true
   },
   "outputs": [],
   "source": [
    "#!/usr/bin/env python\n",
    "\n",
    "###############################################################################\n",
    "######### Import\n",
    "###############################################################################\n",
    "\n",
    "import os\n",
    "import sys\n",
    "import time\n",
    "\n",
    "from time import strftime, gmtime\n",
    "from os import listdir\n",
    "from os.path import isfile, join \n"
   ]
  },
  {
   "cell_type": "code",
   "execution_count": 2,
   "metadata": {
    "collapsed": true
   },
   "outputs": [],
   "source": [
    "###############################################################################\n",
    "######### Paths\n",
    "###############################################################################\n",
    "\n",
    "# set current working directory path\n",
    "pgmPath = os.getcwd()\n",
    "\n",
    "# rbc image path\n",
    "rbcPath = pgmPath + '/Cellavision_Trial_images/rbcs/'\n",
    "\n",
    "# rbc image path\n",
    "wbcPath = pgmPath + '/Cellavision_Trial_images/wbcs/'\n",
    "\n",
    "# set log path\n",
    "logPath = pgmPath + '/log'\n",
    "if not os.path.isdir(logPath):\n",
    "\tos.makedirs(logPath)\n"
   ]
  },
  {
   "cell_type": "code",
   "execution_count": 4,
   "metadata": {
    "collapsed": false
   },
   "outputs": [],
   "source": [
    "###############################################################################\n",
    "######### Create file objects\n",
    "###############################################################################\n",
    "\n",
    "#create time stamp YYMMDD_HH:MM:SS  (Greenwhich mean time)\n",
    "logStamp = strftime('%Y%m%d_%H:%M:%S',gmtime())\n",
    "\n",
    "#create log file name RSOIS_YYYYMMDD.log\n",
    "logFile = str('rbcCapture.log.txt')"
   ]
  },
  {
   "cell_type": "code",
   "execution_count": 5,
   "metadata": {
    "collapsed": true
   },
   "outputs": [],
   "source": [
    "###############################################################################\n",
    "######### Test file connections\n",
    "###############################################################################\n",
    "\n",
    "newUser = \"#####################################################################\"\n",
    "\n",
    "#Create connection to log file\n",
    "try:\n",
    "\trbcCapture_log = open(os.path.join(logPath, logFile), 'a')\n",
    "\trbcCapture_log.write('\\n'+newUser+'\\n'+logStamp + \"-- Successfully opened log file\")\n",
    "except:\n",
    "\trbcCapture_log.write('\\n'+logStamp + 'Invalid pathname, or invalid user permissions\\n')\n",
    "\traise IOError('Invalid pathname, or invalid user permissions')\n"
   ]
  },
  {
   "cell_type": "code",
   "execution_count": 6,
   "metadata": {
    "collapsed": true
   },
   "outputs": [],
   "source": [
    "###############################################################################\n",
    "######### Create objects\n",
    "###############################################################################\n",
    "\n",
    "wbcImgFiles = [f for f in listdir(wbcPath) if isfile(join(wbcPath,f))]"
   ]
  },
  {
   "cell_type": "code",
   "execution_count": 7,
   "metadata": {
    "collapsed": true
   },
   "outputs": [],
   "source": [
    "###############################################################################\n",
    "######### Main\n",
    "###############################################################################\n",
    "\n",
    "\n",
    "def main(*args):\n",
    "\t\n",
    "\ttry:\n",
    "\t\ttry:\n",
    "\t\t\tfor f in wbcImgFiles:\n",
    "\t\t\t\timage = wbcPath + f\n",
    "\t\texcept:\n",
    "\t\t\traise\n",
    "\texcept:\n",
    "\t\traise\n",
    "\t\treturn 2\n",
    "\treturn 0"
   ]
  },
  {
   "cell_type": "code",
   "execution_count": 8,
   "metadata": {
    "collapsed": false
   },
   "outputs": [
    {
     "ename": "SystemExit",
     "evalue": "0",
     "output_type": "error",
     "traceback": [
      "An exception has occurred, use %tb to see the full traceback.\n",
      "\u001b[1;31mSystemExit\u001b[0m\u001b[1;31m:\u001b[0m 0\n"
     ]
    },
    {
     "name": "stderr",
     "output_type": "stream",
     "text": [
      "To exit: use 'exit', 'quit', or Ctrl-D.\n"
     ]
    }
   ],
   "source": [
    "###############################################################################\n",
    "######### Run\n",
    "###############################################################################\n",
    "\n",
    "if __name__ == \"__main__\":\n",
    "\tsys.exit(main())\n"
   ]
  }
 ],
 "metadata": {
  "kernelspec": {
   "display_name": "Python 2",
   "language": "python",
   "name": "python2"
  },
  "language_info": {
   "codemirror_mode": {
    "name": "ipython",
    "version": 2
   },
   "file_extension": ".py",
   "mimetype": "text/x-python",
   "name": "python",
   "nbconvert_exporter": "python",
   "pygments_lexer": "ipython2",
   "version": "2.7.10"
  }
 },
 "nbformat": 4,
 "nbformat_minor": 0
}
