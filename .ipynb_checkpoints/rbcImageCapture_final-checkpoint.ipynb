{
 "cells": [
  {
   "cell_type": "code",
   "execution_count": 1,
   "metadata": {
    "collapsed": false
   },
   "outputs": [
    {
     "name": "stderr",
     "output_type": "stream",
     "text": [
      "Vendor:  Continuum Analytics, Inc.\n",
      "Package: mkl\n",
      "Message: trial mode expires in 21 days\n"
     ]
    }
   ],
   "source": [
    "#!/usr/bin/env python\n",
    "\n",
    "###############################################################################\n",
    "######### Import\n",
    "###############################################################################\n",
    "\n",
    "import os\n",
    "import sys\n",
    "import time\n",
    "import PIL\n",
    "\n",
    "import numpy as np\n",
    "\n",
    "from time import strftime, gmtime\n",
    "from os import listdir\n",
    "from os.path import isfile, join \n",
    "from PIL import Image"
   ]
  },
  {
   "cell_type": "code",
   "execution_count": 2,
   "metadata": {
    "collapsed": false
   },
   "outputs": [],
   "source": [
    "# http://stackoverflow.com/questions/15514593/importerror-no-module-named-when-trying-to-run-python-script\n",
    "\n",
    "import sys\n",
    "sys.path.append('C:/Anaconda/Lib/site-packages')\n",
    "\n",
    "import cv2"
   ]
  },
  {
   "cell_type": "code",
   "execution_count": 3,
   "metadata": {
    "collapsed": false
   },
   "outputs": [],
   "source": [
    "###############################################################################\n",
    "######### Paths\n",
    "###############################################################################\n",
    "\n",
    "# set current working directory path\n",
    "pgmPath = 'C:/Users/thoma/Documents/00GitHub/'\n",
    "\n",
    "# rbc image path\n",
    "rbcPath = pgmPath + 'Cellavision_Trial_images/rbcs/'\n",
    "\n",
    "# rbc image path\n",
    "wbcPath = pgmPath + 'Cellavision_Trial_images/wbcs/'\n",
    "\n",
    "# set log path\n",
    "logPath = pgmPath + 'imageanalysis/log'\n",
    "if not os.path.isdir(logPath):\n",
    "\tos.makedirs(logPath)\n"
   ]
  },
  {
   "cell_type": "code",
   "execution_count": 6,
   "metadata": {
    "collapsed": true
   },
   "outputs": [],
   "source": [
    "###############################################################################\n",
    "######### Create objects\n",
    "###############################################################################\n",
    "\n",
    "wbcImgFiles = [f for f in listdir(wbcPath) if isfile(join(wbcPath,f))]\n",
    "\n",
    "rbcImgFiles = [f for f in listdir(rbcPath) if isfile(join(rbcPath,f))]"
   ]
  },
  {
   "cell_type": "code",
   "execution_count": null,
   "metadata": {
    "collapsed": false
   },
   "outputs": [],
   "source": [
    "# for img in rbcImgFiles:\n",
    "#     for x in range(len(rbcImgFiles)):\n",
    "#         # open individual image paths\n",
    "imPath = str(rbcImgFiles[0])\n",
    "image = rbcPath + imPath\n",
    "\n",
    "# cv image object\n",
    "im = cv2.imread(image)\n",
    "\n",
    "# convert to gray scale\n",
    "imgray = cv2.cvtColor(im,cv2.COLOR_BGR2GRAY)\n",
    "\n",
    "# preprocessing technique for better tresholding\n",
    "imgray = cv2.medianBlur(imgray, 5)\n",
    "\n",
    "# have to 'thresh' for findCountours()..i.e. findContours() needs binary image. Both produce new images. \n",
    "# (<image>, <threshold value>, <max threshold>, ?)\n",
    "ret,thresh = cv2.threshold(imgray,205,255,0)\n",
    "\n",
    "# find the contours\n",
    "image, contours, hierarchy = cv2.findContours(thresh,cv2.RETR_TREE,cv2.CHAIN_APPROX_NONE)\n",
    "# create mask image where all elements are zero (black image) with same size as source (1st param)\n",
    "mask = np.zeros(imgray.shape,np.uint8) \n",
    "\n",
    "# filter the contours based on area\n",
    "for h, cnt in enumerate(contours):\n",
    "    area = cv2.contourArea(cnt)\n",
    "    if area < 300:\n",
    "        continue\n",
    "    if area > 2000:\n",
    "        continue\n",
    "    if len(cnt) < 5:\n",
    "        continue\n",
    "\n",
    "\n",
    "\n",
    "    # draw contours\n",
    "    cv2.drawContours(mask, [cnt],0,255,-1)\n",
    "\n",
    "\n",
    "cv2.imshow(\"Image\", mask)\n",
    "cv2.waitKey(0)\n",
    "\n",
    "#     imgName = img[:-4] + '_mask.png'\n",
    "#     print imgName\n",
    "#     cv2.imwrite(imgName, mask)\n"
   ]
  },
  {
   "cell_type": "code",
   "execution_count": 14,
   "metadata": {
    "collapsed": false
   },
   "outputs": [
    {
     "name": "stdout",
     "output_type": "stream",
     "text": [
      "681200836HV_002_mask\n",
      "681200958HV_001_mask\n",
      "681201015HV_001_mask\n",
      "681201253HV_001_mask\n",
      "681301744HV_001_mask\n",
      "681806917HV_001_mask\n",
      "681806917HV_251_mask\n",
      "681900122HV_001_mask\n",
      "681900220HV_001_mask\n",
      "681900340HV_001_mask\n",
      "681900570HV_001_mask\n",
      "681900570HV_224_mask\n",
      "681900683HV_002_mask\n",
      "681900713HV_001_mask\n",
      "681900848HV_001_mask\n",
      "681900926HV_001_mask\n",
      "681900976HV_001_mask\n",
      "681901197HV_001_mask\n",
      "681901284HV_001_mask\n",
      "681901306HV_001_mask\n",
      "681901317HV_001_mask\n",
      "681901317HV_232_mask\n",
      "681901427HV_001_mask\n",
      "681901555HV_001_mask\n",
      "681901661HV_001_mask\n",
      "681901668HV_001_mask\n",
      "681902025HV_001_mask\n",
      "681902053HV_001_mask\n",
      "681902196HV_001_mask\n",
      "681902221HV_001_mask\n",
      "681902270HV_001_mask\n",
      "681902401HV_001_mask\n",
      "681902468HV_001_mask\n",
      "681902496HV_001_mask\n",
      "681902589HV_001_mask\n",
      "681902589HV_232_mask\n",
      "681902623HV_001_mask\n",
      "681902623HV_242_mask\n",
      "681902700HV_001_mask\n",
      "681902700HV_239_mask\n",
      "681902756HV_001_mask\n",
      "681902756HV_232_mask\n",
      "681903882HV_001_mask\n",
      "681904156HV_001_mask\n",
      "681904248HV_001_mask\n",
      "681904265HV_001_mask\n",
      "681904435HV_002_mask\n",
      "681904546HV_001_mask\n",
      "681904686HV_002_mask\n",
      "ERR20150819145519_002_mask\n"
     ]
    }
   ],
   "source": [
    "for img in rbcImgFiles:\n",
    "    print img[:-4] + '_mask'"
   ]
  },
  {
   "cell_type": "code",
   "execution_count": null,
   "metadata": {
    "collapsed": false
   },
   "outputs": [],
   "source": [
    "cnt = contours[4]\n",
    "img = cv2.drawContours(imgray, [cnt], 0, (0,255,0), 3)\n",
    "cv2.imshow(\"Image\", img)\n",
    "cv2.waitKey(0)"
   ]
  },
  {
   "cell_type": "code",
   "execution_count": null,
   "metadata": {
    "collapsed": true
   },
   "outputs": [],
   "source": [
    "# Opens every file in wbcPath and creates an image object; \n",
    "\n",
    "for im in wbcImgFiles:\n",
    "    picture = wbcPath + im\n",
    "    x = Image.open(picture)\n",
    "    \n",
    "x"
   ]
  }
 ],
 "metadata": {
  "kernelspec": {
   "display_name": "Python 2",
   "language": "python",
   "name": "python2"
  },
  "language_info": {
   "codemirror_mode": {
    "name": "ipython",
    "version": 2
   },
   "file_extension": ".py",
   "mimetype": "text/x-python",
   "name": "python",
   "nbconvert_exporter": "python",
   "pygments_lexer": "ipython2",
   "version": "2.7.10"
  }
 },
 "nbformat": 4,
 "nbformat_minor": 0
}
