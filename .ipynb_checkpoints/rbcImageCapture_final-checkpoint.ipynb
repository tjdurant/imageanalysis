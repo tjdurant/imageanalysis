{
 "cells": [
  {
   "cell_type": "code",
   "execution_count": 2,
   "metadata": {
    "collapsed": false
   },
   "outputs": [],
   "source": [
    "#!/usr/bin/env python\n",
    "\n",
    "###############################################################################\n",
    "######### Import\n",
    "###############################################################################\n",
    "\n",
    "import os\n",
    "import sys\n",
    "import time\n",
    "import PIL\n",
    "\n",
    "import numpy as np\n",
    "\n",
    "from time import strftime, gmtime\n",
    "from os import listdir\n",
    "from os.path import isfile, join \n",
    "from PIL import Image"
   ]
  },
  {
   "cell_type": "code",
   "execution_count": 3,
   "metadata": {
    "collapsed": false
   },
   "outputs": [],
   "source": [
    "# http://stackoverflow.com/questions/15514593/importerror-no-module-named-when-trying-to-run-python-script\n",
    "\n",
    "import sys\n",
    "sys.path.append('C:/Anaconda/Lib/site-packages')\n",
    "\n",
    "import cv2"
   ]
  },
  {
   "cell_type": "code",
   "execution_count": 4,
   "metadata": {
    "collapsed": false
   },
   "outputs": [],
   "source": [
    "###############################################################################\n",
    "######### Paths\n",
    "###############################################################################\n",
    "\n",
    "# set current working directory path\n",
    "pgmPath = 'C:/Users/thoma/Documents/00GitHub/'\n",
    "\n",
    "# rbc image path\n",
    "rbcPath = pgmPath + 'Cellavision_Trial_images/rbcs/'\n",
    "\n",
    "# rbc image path\n",
    "wbcPath = pgmPath + 'Cellavision_Trial_images/wbcs/'\n",
    "\n",
    "# set log path\n",
    "logPath = pgmPath + 'imageanalysis/log'\n",
    "if not os.path.isdir(logPath):\n",
    "\tos.makedirs(logPath)\n"
   ]
  },
  {
   "cell_type": "code",
   "execution_count": 5,
   "metadata": {
    "collapsed": false
   },
   "outputs": [],
   "source": [
    "###############################################################################\n",
    "######### Create file objects\n",
    "###############################################################################\n",
    "\n",
    "#create time stamp YYMMDD_HH:MM:SS  (Greenwhich mean time)\n",
    "logStamp = strftime('%Y%m%d_%H:%M:%S',gmtime())\n",
    "\n",
    "#create log file name RSOIS_YYYYMMDD.log\n",
    "logFile = str('rbcCapture.log.txt')"
   ]
  },
  {
   "cell_type": "code",
   "execution_count": 6,
   "metadata": {
    "collapsed": true
   },
   "outputs": [],
   "source": [
    "###############################################################################\n",
    "######### Test file connections\n",
    "###############################################################################\n",
    "\n",
    "newUser = \"#####################################################################\"\n",
    "\n",
    "#Create connection to log file\n",
    "try:\n",
    "\trbcCapture_log = open(os.path.join(logPath, logFile), 'a')\n",
    "\trbcCapture_log.write('\\n'+newUser+'\\n'+logStamp + \"-- Successfully opened log file\")\n",
    "except:\n",
    "\trbcCapture_log.write('\\n'+logStamp + 'Invalid pathname, or invalid user permissions\\n')\n",
    "\traise IOError('Invalid pathname, or invalid user permissions')\n"
   ]
  },
  {
   "cell_type": "code",
   "execution_count": 22,
   "metadata": {
    "collapsed": true
   },
   "outputs": [],
   "source": [
    "###############################################################################\n",
    "######### Create objects\n",
    "###############################################################################\n",
    "\n",
    "wbcImgFiles = [f for f in listdir(wbcPath) if isfile(join(wbcPath,f))]\n",
    "\n",
    "rbcImgFiles = [f for f in listdir(rbcPath) if isfile(join(rbcPath,f))]"
   ]
  },
  {
   "cell_type": "code",
   "execution_count": 26,
   "metadata": {
    "collapsed": false
   },
   "outputs": [
    {
     "ename": "KeyboardInterrupt",
     "evalue": "",
     "output_type": "error",
     "traceback": [
      "\u001b[1;31m---------------------------------------------------------------------------\u001b[0m",
      "\u001b[1;31mKeyboardInterrupt\u001b[0m                         Traceback (most recent call last)",
      "\u001b[1;32m<ipython-input-26-8098f6b6f17f>\u001b[0m in \u001b[0;36m<module>\u001b[1;34m()\u001b[0m\n\u001b[0;32m     41\u001b[0m \u001b[1;33m\u001b[0m\u001b[0m\n\u001b[0;32m     42\u001b[0m         \u001b[0mimgName\u001b[0m \u001b[1;33m=\u001b[0m \u001b[1;34m'rbc_mask{}.png'\u001b[0m\u001b[1;33m.\u001b[0m\u001b[0mformat\u001b[0m\u001b[1;33m(\u001b[0m\u001b[0mh\u001b[0m\u001b[1;33m)\u001b[0m\u001b[1;33m\u001b[0m\u001b[0m\n\u001b[1;32m---> 43\u001b[1;33m         \u001b[0mcv2\u001b[0m\u001b[1;33m.\u001b[0m\u001b[0mimwrite\u001b[0m\u001b[1;33m(\u001b[0m\u001b[0mimgName\u001b[0m\u001b[1;33m,\u001b[0m \u001b[0mmask\u001b[0m\u001b[1;33m)\u001b[0m\u001b[1;33m\u001b[0m\u001b[0m\n\u001b[0m",
      "\u001b[1;31mKeyboardInterrupt\u001b[0m: "
     ]
    }
   ],
   "source": [
    "for im in rbcImgFiles:\n",
    "    for x in range(len(rbcImgFiles)):\n",
    "        # open individual image paths\n",
    "        imPath = str(im)\n",
    "        image = rbcPath + imPath\n",
    "\n",
    "        # cv image object\n",
    "        im = cv2.imread(image)\n",
    "\n",
    "        # convert to gray scale\n",
    "        imgray = cv2.cvtColor(im,cv2.COLOR_BGR2GRAY)\n",
    "\n",
    "        # preprocessing technique for better tresholding\n",
    "        imgray = cv2.medianBlur(imgray, 5)\n",
    "\n",
    "        # have to 'thresh' for findCountours()..i.e. findContours() needs binary image. Both produce new images. \n",
    "        # (<image>, <threshold value>, <max threshold>, ?)\n",
    "        ret,thresh = cv2.threshold(imgray,205,255,0)\n",
    "\n",
    "        # find the contours\n",
    "        image, contours, hierarchy = cv2.findContours(thresh,cv2.RETR_TREE,cv2.CHAIN_APPROX_NONE)\n",
    "        # create mask image where all elements are zero (black image) with same size as source (1st param)\n",
    "        mask = np.zeros(imgray.shape,np.uint8) \n",
    "\n",
    "        # filter the contours based on area\n",
    "        for h, cnt in enumerate(contours):\n",
    "            area = cv2.contourArea(cnt)\n",
    "            if area < 300:\n",
    "                continue\n",
    "            if area > 2000:\n",
    "                continue\n",
    "            if len(cnt) < 5:\n",
    "                continue\n",
    "\n",
    "\n",
    "\n",
    "            # draw contours\n",
    "            cv2.drawContours(mask, [cnt],0,255,-1)\n",
    "\n",
    "\n",
    "\n",
    "            imgName = 'rbc_mask{}.png'.format(x)\n",
    "            cv2.imwrite(imgName, mask)\n"
   ]
  },
  {
   "cell_type": "code",
   "execution_count": 24,
   "metadata": {
    "collapsed": false
   },
   "outputs": [
    {
     "name": "stdout",
     "output_type": "stream",
     "text": [
      "string0\n",
      "string1\n",
      "string2\n",
      "string3\n",
      "string4\n",
      "string5\n",
      "string6\n",
      "string7\n",
      "string8\n",
      "string9\n",
      "string10\n",
      "string11\n",
      "string12\n",
      "string13\n",
      "string14\n",
      "string15\n",
      "string16\n",
      "string17\n",
      "string18\n",
      "string19\n",
      "string20\n",
      "string21\n",
      "string22\n",
      "string23\n",
      "string24\n",
      "string25\n",
      "string26\n",
      "string27\n",
      "string28\n",
      "string29\n",
      "string30\n",
      "string31\n",
      "string32\n",
      "string33\n",
      "string34\n",
      "string35\n",
      "string36\n",
      "string37\n",
      "string38\n",
      "string39\n",
      "string40\n",
      "string41\n",
      "string42\n",
      "string43\n",
      "string44\n",
      "string45\n",
      "string46\n",
      "string47\n",
      "string48\n",
      "string49\n"
     ]
    }
   ],
   "source": [
    "for x in range(len(rbcImgFiles)):\n",
    "    t = \"string{0}\".format(x)\n",
    "    print t"
   ]
  },
  {
   "cell_type": "code",
   "execution_count": null,
   "metadata": {
    "collapsed": false
   },
   "outputs": [],
   "source": [
    "cnt = contours[4]\n",
    "img = cv2.drawContours(imgray, [cnt], 0, (0,255,0), 3)\n",
    "cv2.imshow(\"Image\", img)\n",
    "cv2.waitKey(0)"
   ]
  },
  {
   "cell_type": "code",
   "execution_count": null,
   "metadata": {
    "collapsed": true
   },
   "outputs": [],
   "source": [
    "# Opens every file in wbcPath and creates an image object; \n",
    "\n",
    "for im in wbcImgFiles:\n",
    "    picture = wbcPath + im\n",
    "    x = Image.open(picture)\n",
    "    \n",
    "x"
   ]
  }
 ],
 "metadata": {
  "kernelspec": {
   "display_name": "Python 2",
   "language": "python",
   "name": "python2"
  },
  "language_info": {
   "codemirror_mode": {
    "name": "ipython",
    "version": 2
   },
   "file_extension": ".py",
   "mimetype": "text/x-python",
   "name": "python",
   "nbconvert_exporter": "python",
   "pygments_lexer": "ipython2",
   "version": "2.7.10"
  }
 },
 "nbformat": 4,
 "nbformat_minor": 0
}
